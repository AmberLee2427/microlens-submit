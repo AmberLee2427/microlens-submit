{
 "cells": [
  {
   "cell_type": "markdown",
   "metadata": {},
   "source": [
    "<div align=\"center\">\n",
    "  <a href=\"https://github.com/AmberLee2427/microlens-submit\">\n",
    "    <img src=\"../assets/rges-pit_logo.png\" alt=\"logo\" width=\"300\"/>\n",
    "  </a>\n",
    "</div>\n",
    "\n",
    "# <font face=\"Helvetica\" size=\"7\"> Submission Tool Tutorial </font>  \n",
    "\n",
    "<hr style=\"border: 1.5pt solid #a859e4; width: 100%; margin-top: -10px;\"> \n",
    "\n",
    "This comprehensive tutorial demonstrates how to use [`microlens-submit`](https://microlens-submit.readthedocs.io/en/latest/) for managing your microlensing data challenge submission. Whether you're working on the Roman Research Nexus or your local machine, this guide will walk you through the complete workflow.\n",
    "\n",
    "## What You'll Learn\n",
    "\n",
    "- Setting up your submission project\n",
    "- Adding and managing solutions for multiple events\n",
    "- Recording computational metadata and provenance\n",
    "- Handling degenerate solutions and model comparison\n",
    "- Exporting your final submission\n",
    "- Best practices for reproducible research\n",
    "\n",
    "## Prerequisites\n",
    "\n",
    "This tutorial assumes you have:\n",
    "- Python 3.8 or higher\n",
    "- `microlens-submit` installed (`pip install microlens-submit`)\n",
    "- Basic familiarity with microlensing modeling\n"
   ]
  },
  {
   "cell_type": "markdown",
   "metadata": {},
   "source": [
    "## 1. Installation and Setup\n",
    "\n",
    "<hr style=\"border: 1.5pt solid #a859e4; width: 100%; margin-top: -10px;\">\n",
    "\n",
    "First, let's ensure we have the latest version installed:"
   ]
  },
  {
   "cell_type": "code",
   "execution_count": null,
   "metadata": {},
   "outputs": [],
   "source": [
    "# Install or upgrade microlens-submit\n",
    "!pip install --upgrade microlens-submit"
   ]
  },
  {
   "cell_type": "code",
   "execution_count": null,
   "metadata": {},
   "outputs": [],
   "source": [
    "# Verify installation\n",
    "!microlens-submit --version"
   ]
  },
  {
   "cell_type": "markdown",
   "metadata": {},
   "source": [
    "## 2. Project Initialization\n",
    "\n",
    "<hr style=\"border: 1.5pt solid #a859e4; width: 100%; margin-top: -10px;\"> \n",
    "\n",
    "Let's create a new submission project. You can initialize it either via CLI or Python API:"
   ]
  },
  {
   "cell_type": "code",
   "execution_count": null,
   "metadata": {},
   "outputs": [],
   "source": [
    "# Method 1: Using the CLI\n",
    "!microlens-submit init --team-name \"Planet Hunters\" --tier \"advanced\""
   ]
  },
  {
   "cell_type": "code",
   "execution_count": null,
   "metadata": {},
   "outputs": [],
   "source": [
    "# Method 2: Using the Python API\n",
    "import microlens_submit\n",
    "from pathlib import Path\n",
    "\n",
    "# Create a new submission project\n",
    "project_path = Path(\"./my_microlensing_submission\")\n",
    "submission = microlens_submit.load(project_path)\n",
    "\n",
    "# Set team information\n",
    "submission.team_name = \"Planet Hunters\"\n",
    "submission.tier = \"advanced\"\n",
    "\n",
    "# Add hardware information (useful for reproducibility)\n",
    "submission.hardware_info = {\n",
    "    \"platform\": \"Roman Research Nexus\",\n",
    "    \"cpu_type\": \"Intel Xeon\",\n",
    "    \"ram_gb\": 32,\n",
    "    \"python_version\": \"3.10.0\"\n",
    "}\n",
    "\n",
    "# Save the initial configuration\n",
    "submission.save()\n",
    "\n",
    "print(f\"✅ Project initialized at: {project_path}\")\n",
    "print(f\"Team: {submission.team_name}\")\n",
    "print(f\"Tier: {submission.tier}\")"
   ]
  },
  {
   "cell_type": "markdown",
   "metadata": {},
   "source": [
    "## 3. Adding Solutions to Events\n",
    "\n",
    "<hr style=\"border: 1.5pt solid #a859e4; width: 100%; margin-top: -10px;\"> \n",
    "\n",
    "Now let's add solutions for different microlensing events. We'll demonstrate both simple and complex scenarios:"
   ]
  },
  {
   "cell_type": "code",
   "execution_count": null,
   "id": "275eb200",
   "metadata": {},
   "outputs": [],
   "source": [
    "# Get or create an event\n",
    "event_001 = submission.get_event(\"KMT-2025-BLG-001\")\n",
    "\n",
    "# Add a simple single-lens solution\n",
    "single_lens_params = {\n",
    "    \"t0\": 2459123.5,      # Time of closest approach (JD)\n",
    "    \"u0\": 0.15,          # Impact parameter\n",
    "    \"tE\": 20.5,          # Einstein crossing time (days)\n",
    "    \"I0\": 18.2,          # Baseline magnitude\n",
    "    \"Is\": 19.8           # Source magnitude\n",
    "}\n",
    "\n",
    "solution_1 = event_001.add_solution(\n",
    "    model_type=\"single_lens\",\n",
    "    parameters=single_lens_params\n",
    ")\n",
    "\n",
    "# Add metadata about this solution\n",
    "solution_1.notes = \"Initial single-lens fit using MCMC sampling\"\n",
    "solution_1.used_astrometry = False\n",
    "solution_1.used_postage_stamps = True\n",
    "solution_1.log_likelihood = -1234.56\n",
    "solution_1.relative_probability = 0.6\n",
    "solution_1.n_data_points = 1250\n",
    "solution_1.lightcurve_plot_path = \"plots/event_001_lc.png\"\n",
    "solution_1.lens_plane_plot_path = \"plots/event_001_lens_plane.png\"\n",
    "\n",
    "# Record computational information\n",
    "solution_1.set_compute_info(\n",
    "    cpu_hours=2.5,\n",
    "    wall_time_hours=0.5\n",
    ")\n",
    "\n",
    "print(f\"✅ Added solution: {solution_1.solution_id}\")\n",
    "print(f\"Model type: {solution_1.model_type}\")\n",
    "print(f\"Parameters: {solution_1.parameters}\")"
   ]
  },
  {
   "cell_type": "code",
   "execution_count": null,
   "id": "76736c0c",
   "metadata": {},
   "outputs": [],
   "source": [
    "# Add a more complex binary-lens solution\n",
    "binary_lens_params = {\n",
    "    \"t0\": 2459123.5,\n",
    "    \"u0\": 0.12,\n",
    "    \"tE\": 22.1,\n",
    "    \"q\": 0.001,           # Mass ratio\n",
    "    \"s\": 1.15,           # Separation\n",
    "    \"alpha\": 45.2,       # Source trajectory angle\n",
    "    \"rho\": 0.001,        # Source size\n",
    "    \"I0\": 18.2,\n",
    "    \"Is\": 19.8\n",
    "}\n",
    "\n",
    "solution_2 = event_001.add_solution(\n",
    "    model_type=\"binary_lens\",\n",
    "    parameters=binary_lens_params\n",
    ")\n",
    "\n",
    "# Add physical parameters derived from the fit\n",
    "solution_2.physical_parameters = {\n",
    "    \"M_L\": 0.45,         # Lens mass (M☉)\n",
    "    \"D_L\": 6.2,          # Lens distance (kpc)\n",
    "    \"M_planet\": 1.5,     # Planet mass (M⊕)\n",
    "    \"a\": 2.8             # Semi-major axis (AU)\n",
    "}\n",
    "\n",
    "# Add parameter uncertainties\n",
    "solution_2.parameter_uncertainties = {\n",
    "    \"t0\": 0.1,\n",
    "    \"u0\": 0.02,\n",
    "    \"tE\": 0.5,\n",
    "    \"q\": 0.0002,\n",
    "    \"s\": 0.05\n",
    "}\n",
    "\n",
    "solution_2.notes = \"Binary-lens fit with planetary companion. MCMC with 1000 walkers, 5000 steps.\"\n",
    "solution_2.log_likelihood = -1189.34\n",
    "solution_2.log_prior = -15.67\n",
    "solution_2.relative_probability = 0.4\n",
    "solution_2.n_data_points = 1250\n",
    "solution_2.lightcurve_plot_path = \"plots/event_001_lc.png\"\n",
    "solution_2.lens_plane_plot_path = \"plots/event_001_lens_plane.png\"\n",
    "\n",
    "# Record more detailed compute info\n",
    "solution_2.set_compute_info(\n",
    "    cpu_hours=15.2,\n",
    "    wall_time_hours=3.8\n",
    ")\n",
    "\n",
    "print(f\"✅ Added binary solution: {solution_2.solution_id}\")\n",
    "print(f\"Log-likelihood improvement: {solution_1.log_likelihood - solution_2.log_likelihood:.2f}\")"
   ]
  },
  {
   "cell_type": "markdown",
   "id": "100988d7",
   "metadata": {},
   "source": [
    "## 4. Managing Multiple Events\n",
    "\n",
    "We also assign a `relative_probability` to each solution to indicate our confidence.\n",
    "\n",
    "<hr style=\"border: 1.5pt solid #a859e4; width: 100%; margin-top: -10px;\"> \n",
    "\n",
    "Let's add solutions for additional events to demonstrate the multi-event workflow:"
   ]
  },
  {
   "cell_type": "code",
   "execution_count": null,
   "id": "1b7bea96",
   "metadata": {},
   "outputs": [],
   "source": [
    "# Add a second event with different characteristics\n",
    "event_002 = submission.get_event(\"OGLE-2025-BLG-0042\")\n",
    "\n",
    "# This event has a more complex light curve\n",
    "complex_params = {\n",
    "    \"t0\": 2459156.2,\n",
    "    \"u0\": 0.08,\n",
    "    \"tE\": 35.7,\n",
    "    \"q\": 0.0005,\n",
    "    \"s\": 0.95,\n",
    "    \"alpha\": 78.3,\n",
    "    \"rho\": 0.002,\n",
    "    \"I0\": 17.8,\n",
    "    \"Is\": 19.2\n",
    "}\n",
    "\n",
    "solution_3 = event_002.add_solution(\n",
    "    model_type=\"binary_lens\",\n",
    "    parameters=complex_params\n",
    ")\n",
    "\n",
    "solution_3.physical_parameters = {\n",
    "    \"M_L\": 0.32,\n",
    "    \"D_L\": 7.8,\n",
    "    \"M_planet\": 0.8,\n",
    "    \"a\": 1.9\n",
    "}\n",
    "\n",
    "solution_3.notes = \"Complex binary event with caustic crossing. Used emcee with 2000 walkers.\"\n",
    "solution_3.log_likelihood = -2156.78\n",
    "solution_3.relative_probability = 1.0\n",
    "solution_3.n_data_points = 2100\n",
    "solution_3.lightcurve_plot_path = \"plots/event_002_lc.png\"\n",
    "solution_3.lens_plane_plot_path = \"plots/event_002_lens_plane.png\"\n",
    "\n",
    "solution_3.set_compute_info(cpu_hours=28.5, wall_time_hours=7.2)\n",
    "\n",
    "print(f\"✅ Added solution for {event_002.event_id}: {solution_3.solution_id}\")"
   ]
  },
  {
   "cell_type": "markdown",
   "id": "a2a26ff5",
   "metadata": {},
   "source": [
    "## 5. Solution Management and Comparison\n",
    "\n",
    "<hr style=\"border: 1.5pt solid #a859e4; width: 100%; margin-top: -10px;\"> \n",
    "\n",
    "Let's explore how to manage and compare different solutions:"
   ]
  },
  {
   "cell_type": "code",
   "execution_count": null,
   "id": "bf286696",
   "metadata": {},
   "outputs": [],
   "source": [
    "# List all solutions for an event\n",
    "print(\"=== Solutions for KMT-2025-BLG-001 ===\")\n",
    "for solution in event_001.get_active_solutions():\n",
    "    print(f\"ID: {solution.solution_id[:8]}...\")\n",
    "    print(f\"  Model: {solution.model_type}\")\n",
    "    print(f\"  Log-likelihood: {solution.log_likelihood}\")\n",
    "    print(f\"  Active: {solution.is_active}\")\n",
    "    print()"
   ]
  },
  {
   "cell_type": "code",
   "execution_count": null,
   "id": "4bbcbaaa",
   "metadata": {},
   "outputs": [],
   "source": [
    "# Compare solutions using the CLI\n",
    "!microlens-submit compare-solutions KMT-2025-BLG-001"
   ]
  },
  {
   "cell_type": "code",
   "execution_count": null,
   "id": "d47cee7e",
   "metadata": {},
   "outputs": [],
   "source": [
    "# Deactivate a solution that didn't work out well\n",
    "# (This keeps it in history but excludes it from final export)\n",
    "solution_1.deactivate()\n",
    "print(f\"Deactivated solution: {solution_1.solution_id[:8]}...\")\n",
    "print(f\"Active solutions remaining: {len(event_001.get_active_solutions())}\")"
   ]
  },
  {
   "cell_type": "markdown",
   "id": "ed2941e4",
   "metadata": {},
   "source": [
    "## 6. Setting Relative Probabilities\n",
    "\n",
    "<hr style=\"border: 1.5pt solid #a859e4; width: 100%; margin-top: -10px;\"> \n",
    "\n",
    "\n",
    "When you have multiple solutions for the same event, it's crucial to specify how they should be weighted. The tool uses `relative_probability` to determine which solution is most likely to be correct.\n",
    "\n",
    "### Why Relative Probabilities Matter\n",
    "\n",
    "If you don't specify `relative_probability` or `log_likelihood` + `n_data_points`, all solutions will be weighted equally. This might not reflect your actual confidence in each model.\n",
    "\n",
    "### Setting Relative Probabilities\n",
    "\n",
    "You can set relative probabilities directly:"
   ]
  },
  {
   "cell_type": "code",
   "execution_count": null,
   "id": "c699afef",
   "metadata": {},
   "outputs": [],
   "source": [
    "# Set relative probabilities for competing solutions\n",
    "solution_1.relative_probability = 0.3  # 30% confidence\n",
    "solution_2.relative_probability = 0.7  # 70% confidence\n",
    "\n",
    "# The probabilities should sum to 1.0 for all active solutions in an event\n",
    "print(f\"Solution 1 probability: {solution_1.relative_probability}\")\n",
    "print(f\"Solution 2 probability: {solution_2.relative_probability}\")\n",
    "print(f\"Total probability: {solution_1.relative_probability + solution_2.relative_probability}\")"
   ]
  },
  {
   "cell_type": "markdown",
   "id": "e1a80556",
   "metadata": {},
   "source": [
    "### Automatic Probability Calculation\n",
    "\n",
    "If you provide `log_likelihood` and `n_data_points`, the tool can automatically calculate relative probabilities using the Bayesian Information Criterion (BIC):"
   ]
  },
  {
   "cell_type": "code",
   "execution_count": null,
   "id": "649cc841",
   "metadata": {},
   "outputs": [],
   "source": [
    "# The tool will automatically calculate relative probabilities from BIC\n",
    "# when log_likelihood and n_data_points are provided\n",
    "solution_1.log_likelihood = -1234.56\n",
    "solution_1.n_data_points = 1250\n",
    "\n",
    "solution_2.log_likelihood = -1189.34  \n",
    "solution_2.n_data_points = 1250\n",
    "\n",
    "# Save to trigger automatic calculation\n",
    "submission.save()\n",
    "\n",
    "# Check the calculated probabilities\n",
    "print(f\"Solution 1 auto-calculated probability: {solution_1.relative_probability:.3f}\")\n",
    "print(f\"Solution 2 auto-calculated probability: {solution_2.relative_probability:.3f}\")"
   ]
  },
  {
   "cell_type": "markdown",
   "id": "510ac0e1",
   "metadata": {},
   "source": [
    "### Best Practices\n",
    "\n",
    "- **Explicit probabilities:** Use `relative_probability` when you have strong prior knowledge about model likelihoods\n",
    "- **BIC-based calculation:** Provide `log_likelihood` and `n_data_points` for automatic calculation\n",
    "- **Consistency:** Ensure probabilities sum to 1.0 for all active solutions in an event\n",
    "- **Documentation:** Use notes to explain your reasoning for probability assignments\n"
   ]
  },
  {
   "cell_type": "markdown",
   "id": "257bc7fc",
   "metadata": {},
   "source": [
    "## 7. Working with Posterior Samples\n",
    "\n",
    "<hr style=\"border: 1.5pt solid #a859e4; width: 100%; margin-top: -10px;\"> \n",
    "\n",
    "If you have posterior samples from your MCMC runs, you can store references to them:"
   ]
  },
  {
   "cell_type": "code",
   "execution_count": null,
   "id": "3a21b69f",
   "metadata": {},
   "outputs": [],
   "source": [
    "# Add posterior path to a solution\n",
    "solution_2.posterior_path = \"posteriors/kmt_001_binary_samples.h5\"\n",
    "solution_3.posterior_path = \"posteriors/ogle_042_complex_samples.h5\"\n",
    "\n",
    "print(f\"Posterior samples stored for: {solution_2.solution_id[:8]}...\")\n",
    "print(f\"Path: {solution_2.posterior_path}\")"
   ]
  },
  {
   "cell_type": "markdown",
   "id": "8868b628",
   "metadata": {},
   "source": [
    "## 8. Parameter Validation\n",
    "\n",
    "<hr style=\"border: 1.5pt solid #a859e4; width: 100%; margin-top: -10px;\">\n",
    "\n",
    "The tool includes comprehensive parameter validation to ensure your solutions are complete and physically consistent:\n"
   ]
  },
  {
   "cell_type": "code",
   "execution_count": null,
   "id": "2f22deb1",
   "metadata": {},
   "outputs": [],
   "source": [
    "# Validate a specific solution\n",
    "validation_messages = solution_2.validate()\n",
    "\n",
    "if validation_messages:\n",
    "    print(\"Validation warnings:\")\n",
    "    for msg in validation_messages:\n",
    "        print(f\"  • {msg}\")\n",
    "else:\n",
    "    print(\"✅ Solution validated successfully!\")"
   ]
  },
  {
   "cell_type": "code",
   "execution_count": null,
   "id": "85da7aa8",
   "metadata": {},
   "outputs": [],
   "source": [
    "# Validate all solutions for an event\n",
    "print(\"=== Validating Event: KMT-2025-BLG-001 ===\")\n",
    "for solution in event_001.solutions.values():\n",
    "    messages = solution.validate()\n",
    "    if messages:\n",
    "        print(f\"\\nSolution {solution.solution_id[:8]}...:\")\n",
    "        for msg in messages:\n",
    "            print(f\"  • {msg}\")\n",
    "    else:\n",
    "        print(f\"✅ Solution {solution.solution_id[:8]}...: Valid\")"
   ]
  },
  {
   "cell_type": "code",
   "execution_count": null,
   "id": "89d663f8",
   "metadata": {},
   "outputs": [],
   "source": [
    "# Validate the entire submission\n",
    "warnings = submission.validate()\n",
    "if warnings:\n",
    "    print(\"Submission validation warnings:\")\n",
    "    for warning in warnings:\n",
    "        print(f\"  • {warning}\")\n",
    "else:\n",
    "    print(\"✅ Submission validated successfully!\")"
   ]
  },
  {
   "cell_type": "markdown",
   "id": "3612ca40",
   "metadata": {},
   "source": [
    "### What Validation Checks\n",
    "\n",
    "The validation system checks:\n",
    "\n",
    "- **Parameter Completeness:** Ensures all required parameters are present for the given model type\n",
    "- **Higher-Order Effects:** Validates that required parameters for effects like parallax or finite-source are included\n",
    "- **Parameter Types:** Checks that parameters have the correct data types\n",
    "- **Physical Consistency:** Validates physically meaningful parameter ranges\n",
    "- **Band-Specific Parameters:** Ensures flux parameters are present for specified photometric bands\n"
   ]
  },
  {
   "cell_type": "markdown",
   "id": "24c88c5d",
   "metadata": {},
   "source": [
    "## 9. Saving and Loading Progress\n",
    "\n",
    "<hr style=\"border: 1.5pt solid #a859e4; width: 100%; margin-top: -10px;\"> \n",
    "\n",
    "The submission state is automatically saved, but you can also save explicitly:"
   ]
  },
  {
   "cell_type": "code",
   "execution_count": null,
   "id": "0552c3f4",
   "metadata": {},
   "outputs": [],
   "source": [
    "# Save current state\n",
    "submission.save()\n",
    "print(\"✅ Project state saved\")\n",
    "\n",
    "# Reload the project (useful for long-running analyses)\n",
    "reloaded_submission = microlens_submit.load(project_path)\n",
    "print(f\"✅ Reloaded project with {len(reloaded_submission.events)} events\")\n",
    "\n",
    "# Check that our solutions are still there\n",
    "for event_id, event in reloaded_submission.events.items():\n",
    "    print(f\"Event {event_id}: {len(event.solutions)} solutions\")"
   ]
  },
  {
   "cell_type": "markdown",
   "id": "62960e70",
   "metadata": {},
   "source": [
    "## 10. CLI Workflow Example\n",
    "\n",
    "<hr style=\"border: 1.5pt solid #a859e4; width: 100%; margin-top: -10px;\"> \n",
    "\n",
    "Here's how to accomplish the same tasks using the command-line interface:"
   ]
  },
  {
   "cell_type": "code",
   "execution_count": null,
   "id": "becf02fa",
   "metadata": {},
   "outputs": [],
   "source": [
    "# Initialize project via CLI\n",
    "!microlens-submit init --team-name \"CLI Example Team\" --tier \"intermediate\""
   ]
  },
  {
   "cell_type": "markdown",
   "id": "5d17ff20",
   "metadata": {},
   "source": [
    "For quick validation, you can run `add-solution` with `--dry-run` to see the parsed input and schema output without saving anything."
   ]
  },
  {
   "cell_type": "code",
   "execution_count": null,
   "id": "cf699b84",
   "metadata": {},
   "outputs": [],
   "source": [
    "!microlens-submit add-solution KMT-2025-BLG-001 \\\n",
    "    --model-type single_lens \\\n",
    "    --param t0=2459123.5 \\\n",
    "    --param u0=0.15 \\\n",
    "    --param tE=20.5 \\\n",
    "    --log-likelihood -1234.56 \\\n",
    "    --lightcurve-plot-path plots/kmt001_lc.png \\\n",
    "    --lens-plane-plot-path plots/kmt001_lens.png \\\n",
    "    --dry-run"
   ]
  },
  {
   "cell_type": "code",
   "execution_count": null,
   "id": "a772ee63",
   "metadata": {},
   "outputs": [],
   "source": [
    "# Add a solution via CLI\n",
    "!microlens-submit add-solution KMT-2025-BLG-001 \\\n",
    "    --model-type single_lens \\\n",
    "    --param t0=2459123.5 \\\n",
    "    --param u0=0.15 \\\n",
    "    --param tE=20.5 \\\n",
    "    --log-likelihood -1234.56 \\\n",
    "    --lightcurve-plot-path plots/kmt001_lc.png \\\n",
    "    --lens-plane-plot-path plots/kmt001_lens.png \\\n",
    "    --notes \"CLI example solution\""
   ]
  },
  {
   "cell_type": "code",
   "execution_count": null,
   "id": "d142c734",
   "metadata": {},
   "outputs": [],
   "source": [
    "# Set explicit relative probability\n",
    "!microlens-submit add-solution EVENT123 1S2L \\\n",
    "    --param t0=555.5 --param u0=0.1 --param tE=25.0 \\\n",
    "    --relative-probability 0.7 \\\n",
    "    --notes \"Preferred solution based on physical arguments\"\n",
    "\n",
    "# Or let BIC calculate it automatically\n",
    "!microlens-submit add-solution EVENT123 1S1L \\\n",
    "    --param t0=556.0 --param u0=0.2 --param tE=24.5 \\\n",
    "    --log-likelihood -1234.56 \\\n",
    "    --n-data-points 1250 \\\n",
    "    --notes \"Alternative solution, probability will be calculated from BIC\""
   ]
  },
  {
   "cell_type": "code",
   "execution_count": null,
   "id": "b65695a5",
   "metadata": {},
   "outputs": [],
   "source": [
    "# Validate via CLI\n",
    "!microlens-submit validate-solution {solution_2.solution_id}\n",
    "!microlens-submit validate-event KMT-2025-BLG-001\n",
    "!microlens-submit validate-submission"
   ]
  },
  {
   "cell_type": "markdown",
   "id": "b1173147",
   "metadata": {},
   "source": [
    "**Note:** When you add solutions via CLI, validation happens automatically and warnings are displayed. Use `--dry-run` to check validation without saving."
   ]
  },
  {
   "cell_type": "code",
   "execution_count": null,
   "metadata": {},
   "outputs": [],
   "source": [
    "# List solutions\n",
    "!microlens-submit list-solutions KMT-2025-BLG-001"
   ]
  },
  {
   "cell_type": "markdown",
   "metadata": {},
   "source": [
    "## 11. Final Export and Validation\n",
    "\n",
    "<hr style=\"border: 1.5pt solid #a859e4; width: 100%; margin-top: -10px;\"> \n",
    "\n",
    "When you're ready to submit, export your final package:"
   ]
  },
  {
   "cell_type": "code",
   "execution_count": null,
   "metadata": {},
   "outputs": [],
   "source": [
    "# Export the final submission\n",
    "submission.export(filename=\"planet_hunters_final_submission.zip\")\n",
    "print(\"✅ Final submission exported!\")\n",
    "\n",
    "# Check what's included\n",
    "import zipfile\n",
    "with zipfile.ZipFile(\"planet_hunters_final_submission.zip\", 'r') as zip_ref:\n",
    "    print(\"\\nContents of submission package:\")\n",
    "    for file in zip_ref.namelist():\n",
    "        print(f\"  {file}\")"
   ]
  },
  {
   "cell_type": "code",
   "execution_count": null,
   "metadata": {},
   "outputs": [],
   "source": [
    "# Alternative: Export via CLI\n",
    "!microlens-submit export --output cli_example_submission.zip"
   ]
  },
  {
   "cell_type": "markdown",
   "metadata": {},
   "source": [
    "## 12. Best Practices and Tips\n",
    "\n",
    "<hr style=\"border: 1.5pt solid #a859e4; width: 100%; margin-top: -10px;\"> \n",
    "\n",
    "### Reproducibility\n",
    "- Always use `set_compute_info()` to record computational details\n",
    "- Include version information for key dependencies\n",
    "- Use descriptive notes for each solution\n",
    "\n",
    "### Workflow Management\n",
    "- Save frequently with `submission.save()`\n",
    "- Use `deactivate()` instead of deleting solutions\n",
    "- Keep multiple solutions for comparison\n",
    "\n",
    "### Data Quality\n",
    "- Validate your parameters before adding solutions\n",
    "- Include uncertainties when available\n",
    "- Record the number of data points used\n",
    "\n",
    "### Performance\n",
    "- The tool is designed for long-term projects\n",
    "- Large numbers of solutions are handled efficiently\n",
    "- Export only when ready for final submission\n",
    "\n",
    "## Next Steps\n",
    "\n",
    "<hr style=\"border: 1.5pt solid #a859e4; width: 100%; margin-top: -10px;\"> \n",
    "\n",
    "1. **Explore the API documentation** for advanced features\n",
    "2. **Check the manual submission format** in `SUBMISSION_MANUAL.md` if needed\n",
    "3. **Join the community** for questions and support\n",
    "4. **Start your own microlensing analysis** with confidence!\n",
    "\n",
    "Happy modeling! 🪐"
   ]
  }
 ],
 "metadata": {
  "kernelspec": {
   "display_name": "Python 3",
   "language": "python",
   "name": "python3"
  },
  "language_info": {
   "name": "python",
   "version": "3.10"
  }
 },
 "nbformat": 4,
 "nbformat_minor": 5
}
